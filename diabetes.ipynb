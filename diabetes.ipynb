{
  "cells": [
    {
      "cell_type": "markdown",
      "metadata": {
        "id": "view-in-github",
        "colab_type": "text"
      },
      "source": [
        "<a href=\"https://colab.research.google.com/github/byanflowers/UAS-DATA-MING/blob/main/diabetes.ipynb\" target=\"_parent\"><img src=\"https://colab.research.google.com/assets/colab-badge.svg\" alt=\"Open In Colab\"/></a>"
      ]
    },
    {
      "cell_type": "code",
      "execution_count": 9,
      "metadata": {
        "id": "AkQ7HZd80fMo"
      },
      "outputs": [],
      "source": [
        "import pandas as pd\n",
        "from sklearn.preprocessing import MinMaxScaler"
      ]
    },
    {
      "cell_type": "code",
      "source": [
        "url = 'https://raw.githubusercontent.com/jbrownlee/Datasets/master/pima-indians-diabetes.data.csv'"
      ],
      "metadata": {
        "id": "mZpSvGluMRzp"
      },
      "execution_count": 10,
      "outputs": []
    },
    {
      "cell_type": "code",
      "source": [
        "columns = ['Pregnancies', 'Glucose', 'BloodPressure', 'SkinThickness',\n",
        "           'Insulin', 'BMI', 'DiabetesPedigreeFunction', 'Age', 'Outcome']"
      ],
      "metadata": {
        "id": "WzM9C_BjMWDb"
      },
      "execution_count": 11,
      "outputs": []
    },
    {
      "cell_type": "code",
      "source": [
        "df = pd.read_csv(url, header=None, names=columns)"
      ],
      "metadata": {
        "id": "lOKa9QDIMUms"
      },
      "execution_count": 12,
      "outputs": []
    },
    {
      "cell_type": "code",
      "source": [
        "print(\"Data awal:\")\n",
        "print(df.head())"
      ],
      "metadata": {
        "colab": {
          "base_uri": "https://localhost:8080/"
        },
        "id": "pVkuDYndMZdo",
        "outputId": "2fba4fab-284a-4b2e-e720-b788803cbd0e"
      },
      "execution_count": 13,
      "outputs": [
        {
          "output_type": "stream",
          "name": "stdout",
          "text": [
            "Data awal:\n",
            "   Pregnancies  Glucose  BloodPressure  SkinThickness  Insulin   BMI  \\\n",
            "0            6      148             72             35        0  33.6   \n",
            "1            1       85             66             29        0  26.6   \n",
            "2            8      183             64              0        0  23.3   \n",
            "3            1       89             66             23       94  28.1   \n",
            "4            0      137             40             35      168  43.1   \n",
            "\n",
            "   DiabetesPedigreeFunction  Age  Outcome  \n",
            "0                     0.627   50        1  \n",
            "1                     0.351   31        0  \n",
            "2                     0.672   32        1  \n",
            "3                     0.167   21        0  \n",
            "4                     2.288   33        1  \n"
          ]
        }
      ]
    },
    {
      "cell_type": "code",
      "source": [
        "X = df.drop(columns=['Outcome'])\n",
        "y = df['Outcome']"
      ],
      "metadata": {
        "id": "rmJSG_jZMcNN"
      },
      "execution_count": 8,
      "outputs": []
    },
    {
      "cell_type": "code",
      "source": [
        "scaler = MinMaxScaler()\n",
        "normalized_data = scaler.fit_transform(X)"
      ],
      "metadata": {
        "id": "p9CIZPn6MyxD"
      },
      "execution_count": 14,
      "outputs": []
    },
    {
      "cell_type": "code",
      "source": [
        "normalized_df = pd.DataFrame(normalized_data, columns=X.columns)"
      ],
      "metadata": {
        "id": "zcTR-N2cM2jm"
      },
      "execution_count": 15,
      "outputs": []
    },
    {
      "cell_type": "code",
      "source": [
        "print(\"\\nData setelah normalisasi:\")\n",
        "print(normalized_df.head())"
      ],
      "metadata": {
        "colab": {
          "base_uri": "https://localhost:8080/"
        },
        "id": "2Y3W5i1FNNjB",
        "outputId": "9da7a659-1255-4bca-b55b-937faa15c125"
      },
      "execution_count": 16,
      "outputs": [
        {
          "output_type": "stream",
          "name": "stdout",
          "text": [
            "\n",
            "Data setelah normalisasi:\n",
            "   Pregnancies   Glucose  BloodPressure  SkinThickness   Insulin       BMI  \\\n",
            "0     0.352941  0.743719       0.590164       0.353535  0.000000  0.500745   \n",
            "1     0.058824  0.427136       0.540984       0.292929  0.000000  0.396423   \n",
            "2     0.470588  0.919598       0.524590       0.000000  0.000000  0.347243   \n",
            "3     0.058824  0.447236       0.540984       0.232323  0.111111  0.418778   \n",
            "4     0.000000  0.688442       0.327869       0.353535  0.198582  0.642325   \n",
            "\n",
            "   DiabetesPedigreeFunction       Age  \n",
            "0                  0.234415  0.483333  \n",
            "1                  0.116567  0.166667  \n",
            "2                  0.253629  0.183333  \n",
            "3                  0.038002  0.000000  \n",
            "4                  0.943638  0.200000  \n"
          ]
        }
      ]
    },
    {
      "cell_type": "code",
      "source": [
        "final_df = normalized_df.copy()\n",
        "final_df['Outcome'] = y"
      ],
      "metadata": {
        "id": "p2b_uKRFNQbn"
      },
      "execution_count": 17,
      "outputs": []
    },
    {
      "cell_type": "code",
      "source": [
        "print(\"\\nData final (fitur ternormalisasi + target):\")\n",
        "print(final_df.head())"
      ],
      "metadata": {
        "colab": {
          "base_uri": "https://localhost:8080/"
        },
        "id": "Z3idAW8DNTa0",
        "outputId": "c8d2fc0e-f1eb-43b1-8438-f26c2ae0442e"
      },
      "execution_count": 18,
      "outputs": [
        {
          "output_type": "stream",
          "name": "stdout",
          "text": [
            "\n",
            "Data final (fitur ternormalisasi + target):\n",
            "   Pregnancies   Glucose  BloodPressure  SkinThickness   Insulin       BMI  \\\n",
            "0     0.352941  0.743719       0.590164       0.353535  0.000000  0.500745   \n",
            "1     0.058824  0.427136       0.540984       0.292929  0.000000  0.396423   \n",
            "2     0.470588  0.919598       0.524590       0.000000  0.000000  0.347243   \n",
            "3     0.058824  0.447236       0.540984       0.232323  0.111111  0.418778   \n",
            "4     0.000000  0.688442       0.327869       0.353535  0.198582  0.642325   \n",
            "\n",
            "   DiabetesPedigreeFunction       Age  Outcome  \n",
            "0                  0.234415  0.483333        1  \n",
            "1                  0.116567  0.166667        0  \n",
            "2                  0.253629  0.183333        1  \n",
            "3                  0.038002  0.000000        0  \n",
            "4                  0.943638  0.200000        1  \n"
          ]
        }
      ]
    }
  ],
  "metadata": {
    "colab": {
      "provenance": [],
      "authorship_tag": "ABX9TyOHnoi77IwMakXYCPVkgXTF",
      "include_colab_link": true
    },
    "kernelspec": {
      "display_name": "Python 3",
      "name": "python3"
    },
    "language_info": {
      "name": "python"
    }
  },
  "nbformat": 4,
  "nbformat_minor": 0
}